{
 "cells": [
  {
   "cell_type": "code",
   "execution_count": 1,
   "id": "c69a8ff7-d31a-4ff0-8d30-753b4f88714f",
   "metadata": {},
   "outputs": [
    {
     "data": {
      "text/html": [
       "<div>\n",
       "<style scoped>\n",
       "    .dataframe tbody tr th:only-of-type {\n",
       "        vertical-align: middle;\n",
       "    }\n",
       "\n",
       "    .dataframe tbody tr th {\n",
       "        vertical-align: top;\n",
       "    }\n",
       "\n",
       "    .dataframe thead th {\n",
       "        text-align: right;\n",
       "    }\n",
       "</style>\n",
       "<table border=\"1\" class=\"dataframe\">\n",
       "  <thead>\n",
       "    <tr style=\"text-align: right;\">\n",
       "      <th></th>\n",
       "      <th>Trip_Distance_km</th>\n",
       "      <th>Traffic_Conditions</th>\n",
       "      <th>Weather</th>\n",
       "      <th>Base_Fare</th>\n",
       "      <th>Trip_Duration_Minutes</th>\n",
       "      <th>Trip_Price</th>\n",
       "    </tr>\n",
       "  </thead>\n",
       "  <tbody>\n",
       "    <tr>\n",
       "      <th>0</th>\n",
       "      <td>19.35</td>\n",
       "      <td>1.0</td>\n",
       "      <td>1</td>\n",
       "      <td>3.56</td>\n",
       "      <td>53.82</td>\n",
       "      <td>36.2624</td>\n",
       "    </tr>\n",
       "    <tr>\n",
       "      <th>1</th>\n",
       "      <td>36.87</td>\n",
       "      <td>3.0</td>\n",
       "      <td>1</td>\n",
       "      <td>2.70</td>\n",
       "      <td>37.27</td>\n",
       "      <td>52.9032</td>\n",
       "    </tr>\n",
       "    <tr>\n",
       "      <th>2</th>\n",
       "      <td>8.64</td>\n",
       "      <td>2.0</td>\n",
       "      <td>1</td>\n",
       "      <td>2.55</td>\n",
       "      <td>89.33</td>\n",
       "      <td>60.2028</td>\n",
       "    </tr>\n",
       "    <tr>\n",
       "      <th>3</th>\n",
       "      <td>41.79</td>\n",
       "      <td>3.0</td>\n",
       "      <td>1</td>\n",
       "      <td>4.60</td>\n",
       "      <td>86.95</td>\n",
       "      <td>88.1328</td>\n",
       "    </tr>\n",
       "    <tr>\n",
       "      <th>4</th>\n",
       "      <td>9.91</td>\n",
       "      <td>3.0</td>\n",
       "      <td>1</td>\n",
       "      <td>2.32</td>\n",
       "      <td>41.72</td>\n",
       "      <td>28.9914</td>\n",
       "    </tr>\n",
       "    <tr>\n",
       "      <th>...</th>\n",
       "      <td>...</td>\n",
       "      <td>...</td>\n",
       "      <td>...</td>\n",
       "      <td>...</td>\n",
       "      <td>...</td>\n",
       "      <td>...</td>\n",
       "    </tr>\n",
       "    <tr>\n",
       "      <th>653</th>\n",
       "      <td>40.17</td>\n",
       "      <td>1.0</td>\n",
       "      <td>1</td>\n",
       "      <td>3.81</td>\n",
       "      <td>62.66</td>\n",
       "      <td>56.6394</td>\n",
       "    </tr>\n",
       "    <tr>\n",
       "      <th>654</th>\n",
       "      <td>14.34</td>\n",
       "      <td>2.0</td>\n",
       "      <td>1</td>\n",
       "      <td>3.23</td>\n",
       "      <td>45.07</td>\n",
       "      <td>30.7837</td>\n",
       "    </tr>\n",
       "    <tr>\n",
       "      <th>655</th>\n",
       "      <td>18.69</td>\n",
       "      <td>2.0</td>\n",
       "      <td>1</td>\n",
       "      <td>4.90</td>\n",
       "      <td>79.41</td>\n",
       "      <td>51.8548</td>\n",
       "    </tr>\n",
       "    <tr>\n",
       "      <th>656</th>\n",
       "      <td>5.49</td>\n",
       "      <td>2.0</td>\n",
       "      <td>1</td>\n",
       "      <td>2.39</td>\n",
       "      <td>58.39</td>\n",
       "      <td>34.4049</td>\n",
       "    </tr>\n",
       "    <tr>\n",
       "      <th>657</th>\n",
       "      <td>47.56</td>\n",
       "      <td>1.0</td>\n",
       "      <td>1</td>\n",
       "      <td>2.67</td>\n",
       "      <td>114.94</td>\n",
       "      <td>61.2090</td>\n",
       "    </tr>\n",
       "  </tbody>\n",
       "</table>\n",
       "<p>658 rows × 6 columns</p>\n",
       "</div>"
      ],
      "text/plain": [
       "     Trip_Distance_km  Traffic_Conditions  Weather  Base_Fare  \\\n",
       "0               19.35                 1.0        1       3.56   \n",
       "1               36.87                 3.0        1       2.70   \n",
       "2                8.64                 2.0        1       2.55   \n",
       "3               41.79                 3.0        1       4.60   \n",
       "4                9.91                 3.0        1       2.32   \n",
       "..                ...                 ...      ...        ...   \n",
       "653             40.17                 1.0        1       3.81   \n",
       "654             14.34                 2.0        1       3.23   \n",
       "655             18.69                 2.0        1       4.90   \n",
       "656              5.49                 2.0        1       2.39   \n",
       "657             47.56                 1.0        1       2.67   \n",
       "\n",
       "     Trip_Duration_Minutes  Trip_Price  \n",
       "0                    53.82     36.2624  \n",
       "1                    37.27     52.9032  \n",
       "2                    89.33     60.2028  \n",
       "3                    86.95     88.1328  \n",
       "4                    41.72     28.9914  \n",
       "..                     ...         ...  \n",
       "653                  62.66     56.6394  \n",
       "654                  45.07     30.7837  \n",
       "655                  79.41     51.8548  \n",
       "656                  58.39     34.4049  \n",
       "657                 114.94     61.2090  \n",
       "\n",
       "[658 rows x 6 columns]"
      ]
     },
     "execution_count": 1,
     "metadata": {},
     "output_type": "execute_result"
    }
   ],
   "source": [
    "import pandas as pd\n",
    "import numpy as np\n",
    "import matplotlib.pyplot as plt\n",
    "import seaborn as sns\n",
    "import sklearn.datasets\n",
    "from sklearn.model_selection import train_test_split\n",
    "from sklearn import linear_model\n",
    "\n",
    "from sklearn import metrics\n",
    "df = pd.read_csv(\"taxi_updated.csv\")\n",
    "df"
   ]
  },
  {
   "cell_type": "code",
   "execution_count": 2,
   "id": "aa2fb3b0-7b2b-4b5b-a790-3d182fbd6d11",
   "metadata": {},
   "outputs": [],
   "source": [
    "# check correlations \n",
    "corr_m = df.corr()"
   ]
  },
  {
   "cell_type": "code",
   "execution_count": 3,
   "id": "95ad846d-aa07-4fbf-8d07-f383a9d5d31b",
   "metadata": {},
   "outputs": [
    {
     "data": {
      "text/plain": [
       "Trip_Distance_km         0.862291\n",
       "Traffic_Conditions       0.100311\n",
       "Weather                  0.008951\n",
       "Base_Fare                0.032400\n",
       "Trip_Duration_Minutes    0.220062\n",
       "Trip_Price               1.000000\n",
       "Name: Trip_Price, dtype: float64"
      ]
     },
     "execution_count": 3,
     "metadata": {},
     "output_type": "execute_result"
    }
   ],
   "source": [
    "corr_m['Trip_Price']"
   ]
  },
  {
   "cell_type": "code",
   "execution_count": 4,
   "id": "2c1ad8c9-463a-4b7d-b1ce-25360106ff7a",
   "metadata": {},
   "outputs": [
    {
     "data": {
      "text/html": [
       "<div>\n",
       "<style scoped>\n",
       "    .dataframe tbody tr th:only-of-type {\n",
       "        vertical-align: middle;\n",
       "    }\n",
       "\n",
       "    .dataframe tbody tr th {\n",
       "        vertical-align: top;\n",
       "    }\n",
       "\n",
       "    .dataframe thead th {\n",
       "        text-align: right;\n",
       "    }\n",
       "</style>\n",
       "<table border=\"1\" class=\"dataframe\">\n",
       "  <thead>\n",
       "    <tr style=\"text-align: right;\">\n",
       "      <th></th>\n",
       "      <th>Trip_Distance_km</th>\n",
       "      <th>Traffic_Conditions</th>\n",
       "      <th>Weather</th>\n",
       "      <th>Base_Fare</th>\n",
       "      <th>Trip_Duration_Minutes</th>\n",
       "      <th>Trip_Price</th>\n",
       "    </tr>\n",
       "  </thead>\n",
       "  <tbody>\n",
       "    <tr>\n",
       "      <th>0</th>\n",
       "      <td>19.35</td>\n",
       "      <td>1.0</td>\n",
       "      <td>1</td>\n",
       "      <td>3.56</td>\n",
       "      <td>53.82</td>\n",
       "      <td>36.2624</td>\n",
       "    </tr>\n",
       "    <tr>\n",
       "      <th>1</th>\n",
       "      <td>36.87</td>\n",
       "      <td>3.0</td>\n",
       "      <td>1</td>\n",
       "      <td>2.70</td>\n",
       "      <td>37.27</td>\n",
       "      <td>52.9032</td>\n",
       "    </tr>\n",
       "    <tr>\n",
       "      <th>2</th>\n",
       "      <td>8.64</td>\n",
       "      <td>2.0</td>\n",
       "      <td>1</td>\n",
       "      <td>2.55</td>\n",
       "      <td>89.33</td>\n",
       "      <td>60.2028</td>\n",
       "    </tr>\n",
       "    <tr>\n",
       "      <th>3</th>\n",
       "      <td>41.79</td>\n",
       "      <td>3.0</td>\n",
       "      <td>1</td>\n",
       "      <td>4.60</td>\n",
       "      <td>86.95</td>\n",
       "      <td>88.1328</td>\n",
       "    </tr>\n",
       "    <tr>\n",
       "      <th>4</th>\n",
       "      <td>9.91</td>\n",
       "      <td>3.0</td>\n",
       "      <td>1</td>\n",
       "      <td>2.32</td>\n",
       "      <td>41.72</td>\n",
       "      <td>28.9914</td>\n",
       "    </tr>\n",
       "    <tr>\n",
       "      <th>...</th>\n",
       "      <td>...</td>\n",
       "      <td>...</td>\n",
       "      <td>...</td>\n",
       "      <td>...</td>\n",
       "      <td>...</td>\n",
       "      <td>...</td>\n",
       "    </tr>\n",
       "    <tr>\n",
       "      <th>653</th>\n",
       "      <td>40.17</td>\n",
       "      <td>1.0</td>\n",
       "      <td>1</td>\n",
       "      <td>3.81</td>\n",
       "      <td>62.66</td>\n",
       "      <td>56.6394</td>\n",
       "    </tr>\n",
       "    <tr>\n",
       "      <th>654</th>\n",
       "      <td>14.34</td>\n",
       "      <td>2.0</td>\n",
       "      <td>1</td>\n",
       "      <td>3.23</td>\n",
       "      <td>45.07</td>\n",
       "      <td>30.7837</td>\n",
       "    </tr>\n",
       "    <tr>\n",
       "      <th>655</th>\n",
       "      <td>18.69</td>\n",
       "      <td>2.0</td>\n",
       "      <td>1</td>\n",
       "      <td>4.90</td>\n",
       "      <td>79.41</td>\n",
       "      <td>51.8548</td>\n",
       "    </tr>\n",
       "    <tr>\n",
       "      <th>656</th>\n",
       "      <td>5.49</td>\n",
       "      <td>2.0</td>\n",
       "      <td>1</td>\n",
       "      <td>2.39</td>\n",
       "      <td>58.39</td>\n",
       "      <td>34.4049</td>\n",
       "    </tr>\n",
       "    <tr>\n",
       "      <th>657</th>\n",
       "      <td>47.56</td>\n",
       "      <td>1.0</td>\n",
       "      <td>1</td>\n",
       "      <td>2.67</td>\n",
       "      <td>114.94</td>\n",
       "      <td>61.2090</td>\n",
       "    </tr>\n",
       "  </tbody>\n",
       "</table>\n",
       "<p>658 rows × 6 columns</p>\n",
       "</div>"
      ],
      "text/plain": [
       "     Trip_Distance_km  Traffic_Conditions  Weather  Base_Fare  \\\n",
       "0               19.35                 1.0        1       3.56   \n",
       "1               36.87                 3.0        1       2.70   \n",
       "2                8.64                 2.0        1       2.55   \n",
       "3               41.79                 3.0        1       4.60   \n",
       "4                9.91                 3.0        1       2.32   \n",
       "..                ...                 ...      ...        ...   \n",
       "653             40.17                 1.0        1       3.81   \n",
       "654             14.34                 2.0        1       3.23   \n",
       "655             18.69                 2.0        1       4.90   \n",
       "656              5.49                 2.0        1       2.39   \n",
       "657             47.56                 1.0        1       2.67   \n",
       "\n",
       "     Trip_Duration_Minutes  Trip_Price  \n",
       "0                    53.82     36.2624  \n",
       "1                    37.27     52.9032  \n",
       "2                    89.33     60.2028  \n",
       "3                    86.95     88.1328  \n",
       "4                    41.72     28.9914  \n",
       "..                     ...         ...  \n",
       "653                  62.66     56.6394  \n",
       "654                  45.07     30.7837  \n",
       "655                  79.41     51.8548  \n",
       "656                  58.39     34.4049  \n",
       "657                 114.94     61.2090  \n",
       "\n",
       "[658 rows x 6 columns]"
      ]
     },
     "execution_count": 4,
     "metadata": {},
     "output_type": "execute_result"
    }
   ],
   "source": [
    "df"
   ]
  },
  {
   "cell_type": "code",
   "execution_count": 6,
   "id": "c347eb24-d0b8-4542-886b-6e7d30764fc9",
   "metadata": {},
   "outputs": [
    {
     "data": {
      "text/html": [
       "<div>\n",
       "<style scoped>\n",
       "    .dataframe tbody tr th:only-of-type {\n",
       "        vertical-align: middle;\n",
       "    }\n",
       "\n",
       "    .dataframe tbody tr th {\n",
       "        vertical-align: top;\n",
       "    }\n",
       "\n",
       "    .dataframe thead th {\n",
       "        text-align: right;\n",
       "    }\n",
       "</style>\n",
       "<table border=\"1\" class=\"dataframe\">\n",
       "  <thead>\n",
       "    <tr style=\"text-align: right;\">\n",
       "      <th></th>\n",
       "      <th>Trip_Distance_km</th>\n",
       "      <th>Traffic_Conditions</th>\n",
       "      <th>Weather</th>\n",
       "      <th>Base_Fare</th>\n",
       "      <th>Trip_Duration_Minutes</th>\n",
       "    </tr>\n",
       "  </thead>\n",
       "  <tbody>\n",
       "    <tr>\n",
       "      <th>0</th>\n",
       "      <td>19.35</td>\n",
       "      <td>1.0</td>\n",
       "      <td>1</td>\n",
       "      <td>3.56</td>\n",
       "      <td>53.82</td>\n",
       "    </tr>\n",
       "    <tr>\n",
       "      <th>1</th>\n",
       "      <td>36.87</td>\n",
       "      <td>3.0</td>\n",
       "      <td>1</td>\n",
       "      <td>2.70</td>\n",
       "      <td>37.27</td>\n",
       "    </tr>\n",
       "    <tr>\n",
       "      <th>2</th>\n",
       "      <td>8.64</td>\n",
       "      <td>2.0</td>\n",
       "      <td>1</td>\n",
       "      <td>2.55</td>\n",
       "      <td>89.33</td>\n",
       "    </tr>\n",
       "    <tr>\n",
       "      <th>3</th>\n",
       "      <td>41.79</td>\n",
       "      <td>3.0</td>\n",
       "      <td>1</td>\n",
       "      <td>4.60</td>\n",
       "      <td>86.95</td>\n",
       "    </tr>\n",
       "    <tr>\n",
       "      <th>4</th>\n",
       "      <td>9.91</td>\n",
       "      <td>3.0</td>\n",
       "      <td>1</td>\n",
       "      <td>2.32</td>\n",
       "      <td>41.72</td>\n",
       "    </tr>\n",
       "    <tr>\n",
       "      <th>...</th>\n",
       "      <td>...</td>\n",
       "      <td>...</td>\n",
       "      <td>...</td>\n",
       "      <td>...</td>\n",
       "      <td>...</td>\n",
       "    </tr>\n",
       "    <tr>\n",
       "      <th>653</th>\n",
       "      <td>40.17</td>\n",
       "      <td>1.0</td>\n",
       "      <td>1</td>\n",
       "      <td>3.81</td>\n",
       "      <td>62.66</td>\n",
       "    </tr>\n",
       "    <tr>\n",
       "      <th>654</th>\n",
       "      <td>14.34</td>\n",
       "      <td>2.0</td>\n",
       "      <td>1</td>\n",
       "      <td>3.23</td>\n",
       "      <td>45.07</td>\n",
       "    </tr>\n",
       "    <tr>\n",
       "      <th>655</th>\n",
       "      <td>18.69</td>\n",
       "      <td>2.0</td>\n",
       "      <td>1</td>\n",
       "      <td>4.90</td>\n",
       "      <td>79.41</td>\n",
       "    </tr>\n",
       "    <tr>\n",
       "      <th>656</th>\n",
       "      <td>5.49</td>\n",
       "      <td>2.0</td>\n",
       "      <td>1</td>\n",
       "      <td>2.39</td>\n",
       "      <td>58.39</td>\n",
       "    </tr>\n",
       "    <tr>\n",
       "      <th>657</th>\n",
       "      <td>47.56</td>\n",
       "      <td>1.0</td>\n",
       "      <td>1</td>\n",
       "      <td>2.67</td>\n",
       "      <td>114.94</td>\n",
       "    </tr>\n",
       "  </tbody>\n",
       "</table>\n",
       "<p>658 rows × 5 columns</p>\n",
       "</div>"
      ],
      "text/plain": [
       "     Trip_Distance_km  Traffic_Conditions  Weather  Base_Fare  \\\n",
       "0               19.35                 1.0        1       3.56   \n",
       "1               36.87                 3.0        1       2.70   \n",
       "2                8.64                 2.0        1       2.55   \n",
       "3               41.79                 3.0        1       4.60   \n",
       "4                9.91                 3.0        1       2.32   \n",
       "..                ...                 ...      ...        ...   \n",
       "653             40.17                 1.0        1       3.81   \n",
       "654             14.34                 2.0        1       3.23   \n",
       "655             18.69                 2.0        1       4.90   \n",
       "656              5.49                 2.0        1       2.39   \n",
       "657             47.56                 1.0        1       2.67   \n",
       "\n",
       "     Trip_Duration_Minutes  \n",
       "0                    53.82  \n",
       "1                    37.27  \n",
       "2                    89.33  \n",
       "3                    86.95  \n",
       "4                    41.72  \n",
       "..                     ...  \n",
       "653                  62.66  \n",
       "654                  45.07  \n",
       "655                  79.41  \n",
       "656                  58.39  \n",
       "657                 114.94  \n",
       "\n",
       "[658 rows x 5 columns]"
      ]
     },
     "execution_count": 6,
     "metadata": {},
     "output_type": "execute_result"
    }
   ],
   "source": [
    "# splitting the X and Y variabls in other to build and train your model for analysis\n",
    "# independent variables\n",
    "X = df.drop(columns = 'Trip_Price')\n",
    "X"
   ]
  },
  {
   "cell_type": "code",
   "execution_count": 7,
   "id": "c7b0a02f-7534-4bdc-b887-14305be45884",
   "metadata": {},
   "outputs": [
    {
     "data": {
      "text/plain": [
       "0      36.2624\n",
       "1      52.9032\n",
       "2      60.2028\n",
       "3      88.1328\n",
       "4      28.9914\n",
       "        ...   \n",
       "653    56.6394\n",
       "654    30.7837\n",
       "655    51.8548\n",
       "656    34.4049\n",
       "657    61.2090\n",
       "Name: Trip_Price, Length: 658, dtype: float64"
      ]
     },
     "execution_count": 7,
     "metadata": {},
     "output_type": "execute_result"
    }
   ],
   "source": [
    "# the dependent variable\n",
    "y = df['Trip_Price']\n",
    "y"
   ]
  },
  {
   "cell_type": "code",
   "execution_count": 8,
   "id": "8b952ddf-8cc1-42d8-9540-96d8b53cb97a",
   "metadata": {},
   "outputs": [],
   "source": [
    "# methodology\n",
    "from sklearn.model_selection import train_test_split\n",
    "X_train,X_test,y_train,y_test = train_test_split(X,y,test_size = 0.3, random_state = 0)"
   ]
  },
  {
   "cell_type": "code",
   "execution_count": 9,
   "id": "25fea284-3af1-4b3c-bc0c-0db32b0f801d",
   "metadata": {},
   "outputs": [],
   "source": [
    "from sklearn.linear_model import LinearRegression\n",
    "lr = LinearRegression()"
   ]
  },
  {
   "cell_type": "code",
   "execution_count": 10,
   "id": "0d1b4d3a-440a-4782-adc4-b7d67fdc3bb1",
   "metadata": {},
   "outputs": [
    {
     "data": {
      "text/html": [
       "<style>#sk-container-id-1 {color: black;background-color: white;}#sk-container-id-1 pre{padding: 0;}#sk-container-id-1 div.sk-toggleable {background-color: white;}#sk-container-id-1 label.sk-toggleable__label {cursor: pointer;display: block;width: 100%;margin-bottom: 0;padding: 0.3em;box-sizing: border-box;text-align: center;}#sk-container-id-1 label.sk-toggleable__label-arrow:before {content: \"▸\";float: left;margin-right: 0.25em;color: #696969;}#sk-container-id-1 label.sk-toggleable__label-arrow:hover:before {color: black;}#sk-container-id-1 div.sk-estimator:hover label.sk-toggleable__label-arrow:before {color: black;}#sk-container-id-1 div.sk-toggleable__content {max-height: 0;max-width: 0;overflow: hidden;text-align: left;background-color: #f0f8ff;}#sk-container-id-1 div.sk-toggleable__content pre {margin: 0.2em;color: black;border-radius: 0.25em;background-color: #f0f8ff;}#sk-container-id-1 input.sk-toggleable__control:checked~div.sk-toggleable__content {max-height: 200px;max-width: 100%;overflow: auto;}#sk-container-id-1 input.sk-toggleable__control:checked~label.sk-toggleable__label-arrow:before {content: \"▾\";}#sk-container-id-1 div.sk-estimator input.sk-toggleable__control:checked~label.sk-toggleable__label {background-color: #d4ebff;}#sk-container-id-1 div.sk-label input.sk-toggleable__control:checked~label.sk-toggleable__label {background-color: #d4ebff;}#sk-container-id-1 input.sk-hidden--visually {border: 0;clip: rect(1px 1px 1px 1px);clip: rect(1px, 1px, 1px, 1px);height: 1px;margin: -1px;overflow: hidden;padding: 0;position: absolute;width: 1px;}#sk-container-id-1 div.sk-estimator {font-family: monospace;background-color: #f0f8ff;border: 1px dotted black;border-radius: 0.25em;box-sizing: border-box;margin-bottom: 0.5em;}#sk-container-id-1 div.sk-estimator:hover {background-color: #d4ebff;}#sk-container-id-1 div.sk-parallel-item::after {content: \"\";width: 100%;border-bottom: 1px solid gray;flex-grow: 1;}#sk-container-id-1 div.sk-label:hover label.sk-toggleable__label {background-color: #d4ebff;}#sk-container-id-1 div.sk-serial::before {content: \"\";position: absolute;border-left: 1px solid gray;box-sizing: border-box;top: 0;bottom: 0;left: 50%;z-index: 0;}#sk-container-id-1 div.sk-serial {display: flex;flex-direction: column;align-items: center;background-color: white;padding-right: 0.2em;padding-left: 0.2em;position: relative;}#sk-container-id-1 div.sk-item {position: relative;z-index: 1;}#sk-container-id-1 div.sk-parallel {display: flex;align-items: stretch;justify-content: center;background-color: white;position: relative;}#sk-container-id-1 div.sk-item::before, #sk-container-id-1 div.sk-parallel-item::before {content: \"\";position: absolute;border-left: 1px solid gray;box-sizing: border-box;top: 0;bottom: 0;left: 50%;z-index: -1;}#sk-container-id-1 div.sk-parallel-item {display: flex;flex-direction: column;z-index: 1;position: relative;background-color: white;}#sk-container-id-1 div.sk-parallel-item:first-child::after {align-self: flex-end;width: 50%;}#sk-container-id-1 div.sk-parallel-item:last-child::after {align-self: flex-start;width: 50%;}#sk-container-id-1 div.sk-parallel-item:only-child::after {width: 0;}#sk-container-id-1 div.sk-dashed-wrapped {border: 1px dashed gray;margin: 0 0.4em 0.5em 0.4em;box-sizing: border-box;padding-bottom: 0.4em;background-color: white;}#sk-container-id-1 div.sk-label label {font-family: monospace;font-weight: bold;display: inline-block;line-height: 1.2em;}#sk-container-id-1 div.sk-label-container {text-align: center;}#sk-container-id-1 div.sk-container {/* jupyter's `normalize.less` sets `[hidden] { display: none; }` but bootstrap.min.css set `[hidden] { display: none !important; }` so we also need the `!important` here to be able to override the default hidden behavior on the sphinx rendered scikit-learn.org. See: https://github.com/scikit-learn/scikit-learn/issues/21755 */display: inline-block !important;position: relative;}#sk-container-id-1 div.sk-text-repr-fallback {display: none;}</style><div id=\"sk-container-id-1\" class=\"sk-top-container\"><div class=\"sk-text-repr-fallback\"><pre>LinearRegression()</pre><b>In a Jupyter environment, please rerun this cell to show the HTML representation or trust the notebook. <br />On GitHub, the HTML representation is unable to render, please try loading this page with nbviewer.org.</b></div><div class=\"sk-container\" hidden><div class=\"sk-item\"><div class=\"sk-estimator sk-toggleable\"><input class=\"sk-toggleable__control sk-hidden--visually\" id=\"sk-estimator-id-1\" type=\"checkbox\" checked><label for=\"sk-estimator-id-1\" class=\"sk-toggleable__label sk-toggleable__label-arrow\">LinearRegression</label><div class=\"sk-toggleable__content\"><pre>LinearRegression()</pre></div></div></div></div></div>"
      ],
      "text/plain": [
       "LinearRegression()"
      ]
     },
     "execution_count": 10,
     "metadata": {},
     "output_type": "execute_result"
    }
   ],
   "source": [
    "# fitting the model\n",
    "lr.fit(X_train, y_train)"
   ]
  },
  {
   "cell_type": "code",
   "execution_count": 11,
   "id": "dcaa56bf-415c-43a2-a553-534e5f8bb234",
   "metadata": {},
   "outputs": [],
   "source": [
    "# c represents Bo\n",
    "c = lr.intercept_"
   ]
  },
  {
   "cell_type": "code",
   "execution_count": 12,
   "id": "5f29e7d4-fab9-4b55-832b-710e7ceb8449",
   "metadata": {},
   "outputs": [
    {
     "data": {
      "text/plain": [
       "-13.645515118570131"
      ]
     },
     "execution_count": 12,
     "metadata": {},
     "output_type": "execute_result"
    }
   ],
   "source": [
    "c"
   ]
  },
  {
   "cell_type": "code",
   "execution_count": 13,
   "id": "9bbc0af3-b49b-4722-968f-c87a3c15f1d5",
   "metadata": {},
   "outputs": [],
   "source": [
    "# m represents B1, B2, B3 ...\n",
    "m = lr.coef_"
   ]
  },
  {
   "cell_type": "code",
   "execution_count": 14,
   "id": "b786d35a-aef8-47e9-b60c-28d2dc55699b",
   "metadata": {},
   "outputs": [
    {
     "data": {
      "text/plain": [
       "array([1.76456743, 0.38419877, 0.28175574, 0.76958732, 0.29579621])"
      ]
     },
     "execution_count": 14,
     "metadata": {},
     "output_type": "execute_result"
    }
   ],
   "source": [
    "m"
   ]
  },
  {
   "cell_type": "code",
   "execution_count": 15,
   "id": "4896f149-6c21-4b23-a53c-c0caec57f1cb",
   "metadata": {},
   "outputs": [],
   "source": [
    "y_pred_train = lr.predict(X_train)"
   ]
  },
  {
   "cell_type": "code",
   "execution_count": 16,
   "id": "5c673081-9222-42c4-80f0-a25a92f3f687",
   "metadata": {},
   "outputs": [
    {
     "data": {
      "text/plain": [
       "array([103.19185298,  98.934557  ,   4.42438778,  68.9443764 ,\n",
       "        65.3870624 ,  79.14422148,  15.37239617,  24.12812743,\n",
       "        44.41897411,  44.19977478,  10.56025599,  73.29892288,\n",
       "        27.8629755 ,  22.77778183,  84.76067157,  86.29429836,\n",
       "         6.7418772 ,  16.08568822,  25.57351715,  -1.86440362,\n",
       "         7.4590322 ,  27.49968659,  20.54333396,  92.37669916,\n",
       "        59.67500893,  39.82430198,  65.39764174,  79.43830063,\n",
       "       107.87292446,  49.86123631,  66.95114233,  41.97608115,\n",
       "        85.50451862,  56.45316592,  73.46658719,  40.28236575,\n",
       "        -1.52174592,  44.72470419,  80.40872886, 103.62554749,\n",
       "        93.7959041 ,  48.88735313,  86.9104883 ,  47.760848  ,\n",
       "        25.52096324,  70.16082714,  21.87103493,   4.04417522,\n",
       "        84.07512803,  67.01246418,  53.73303797,  52.16812115,\n",
       "        70.17819456,  52.18570268,  83.84192015,  56.44475089,\n",
       "        14.97047166,  90.78969188,  38.23334318,  63.73881154,\n",
       "        60.44394229,  85.7331807 ,  99.92665397,  72.46860531,\n",
       "        52.37680272,  44.32479757,  27.76718796,  43.41121513,\n",
       "        91.77532973,  25.16889977,  51.42037332,  47.86609915,\n",
       "        82.43409919,  -1.20064231,  94.09290512,  42.55448445,\n",
       "        18.06501031,  31.66228341,  36.07891133,  42.59149071,\n",
       "        68.88294737,  59.55067664,  32.33129424,  70.62963916,\n",
       "        90.05287093,  67.21745656,  52.90985757, 103.23045575,\n",
       "        11.09162632,   7.49414124,  62.81114113,  89.96062665,\n",
       "        28.96451284,  58.62900728,  53.70761335,  11.36128833,\n",
       "        85.97140582,  73.82057904,  23.92013752,  91.41164409,\n",
       "        57.19893879,  63.11305638,  81.27502721,  36.82920075,\n",
       "        62.76675327,  53.78615652,  85.47353511, 266.82348307,\n",
       "        45.42016795,  79.91167821,  47.18749624,  38.55975612,\n",
       "        76.69451772,  64.40972414,  87.57382745,  90.84504648,\n",
       "        55.01611801,  13.5685638 ,  74.19971766,  22.71729371,\n",
       "        75.7558485 ,  55.00131072,  59.36649735,  39.33729696,\n",
       "        76.36949643,  54.2526508 ,  76.65804233,  44.88482986,\n",
       "        85.27471504,  70.90332799,  50.06473149, 101.4171195 ,\n",
       "        20.70595374,  19.40176057,  78.2210607 ,  61.34499907,\n",
       "        43.14221936,  71.30008777,  18.80624974,  33.59983364,\n",
       "        86.19062853,  81.13658958,  25.80177251,  27.56944457,\n",
       "        32.47137415,  74.05295975,  61.19524702,   3.33973436,\n",
       "       102.51262041,  51.41625782,  25.54167035,  79.99338539,\n",
       "        17.85584857,  49.05791177,  75.11662334,  12.60569563,\n",
       "        23.72961776,  26.69470527,  42.91178318,  86.71477525,\n",
       "        29.78186665,  41.43139935,  47.69619963,  32.20259174,\n",
       "        54.46342515,  56.3999107 ,  35.30796883,  24.92791101,\n",
       "        48.66352267, 265.25489752,  30.24444628,  97.38128031,\n",
       "        16.20296766,  49.62040949,  49.66589308,  18.49276693,\n",
       "         9.36702179,  61.11771056,  56.40397799,  27.59362579,\n",
       "        69.63121635, 250.35730342,  80.99905863,  66.36762301,\n",
       "        11.18772106,  72.41843692,  59.92425721,  46.26287347,\n",
       "        99.27692969,  68.48946693,  24.65355016,  51.73660068,\n",
       "        90.6089815 ,  57.8798138 ,  57.54910884,  77.54454468,\n",
       "        66.54978739,  81.52164028,  69.51283337,  34.7296591 ,\n",
       "        33.89286065,  26.34696207,  71.86804502, 213.28675605,\n",
       "        31.03642374,  19.6441412 ,  20.16176638,  18.54780547,\n",
       "        31.22724261,  69.25213356,  30.37549784,  55.84847542,\n",
       "        20.61061175,  57.77705102,  55.97465266,  28.52583728,\n",
       "        87.30572732,  23.61610804,  51.14654963,  86.73745277,\n",
       "        86.50515097, 199.93999934,  75.2220649 ,  99.1339424 ,\n",
       "        79.01436224,  38.90106211,  37.20388527,  70.45787997,\n",
       "        31.05075484,  82.70283345,  74.42606689,  66.36947926,\n",
       "        37.14984632,  61.58359977,  85.81589471, 101.09919854,\n",
       "        37.98634931,  88.75142253,  44.3914747 ,  28.55910305,\n",
       "        96.64856683,  66.00642086,  29.70330106,  31.26127456,\n",
       "        22.71771845,  46.13871268,  32.91466704,  56.11589565,\n",
       "        26.43934422,  86.79075215,  50.17281733,  77.95000199,\n",
       "        25.93408407,  34.07987222,  97.23500641,  31.26214883,\n",
       "        67.30190882,  34.23334054,  15.61307373,  79.27103669,\n",
       "        16.76462772,  38.12314838,  95.05824974,  55.47235398,\n",
       "        19.2581633 ,  12.27585308,  50.52731615,  45.59491098,\n",
       "        12.02538702,  16.13917153,  59.66489127,  38.14855758,\n",
       "         2.11162261,  74.72539936,  61.31510925,  62.67387473,\n",
       "        89.88131784,  49.9743406 ,  23.05665549,  85.66665414,\n",
       "        81.99147796,  79.97283436,  75.79017757,  23.57758913,\n",
       "        68.32879629,  85.70113969,  39.16245429, 106.99688078,\n",
       "        59.52730388,   2.22536532,   3.76540787,  52.47094937,\n",
       "        16.15294111, 229.36909016,  75.61155976,  69.85718979,\n",
       "        55.62203596,  75.29209127,  78.38825211,  55.31239552,\n",
       "        70.67064292,  28.90425165,  59.81374124,  13.97785618,\n",
       "        55.72904627,  92.4300658 ,  80.6156414 ,  67.92275454,\n",
       "        -3.65064247,  44.1318154 ,  44.93471988,  84.56737192,\n",
       "        47.41807927,  49.13498849,  23.37164855,   0.33081733,\n",
       "        21.40274485,  60.69844816,  97.94829128, 104.16847079,\n",
       "        42.18844626,  19.67720976,  44.86602797,  77.36271351,\n",
       "        53.34398598,  29.13388949,  88.77440596,  82.56037217,\n",
       "        24.14439982,  72.57254453,  96.60861381,  28.495538  ,\n",
       "        82.42585588,  12.84773477, 247.75638171,  79.08582948,\n",
       "       109.11385475,  85.55527308,  49.23091741,  17.0851171 ,\n",
       "        58.62202717, 102.47920844,  42.60899383,  45.09990936,\n",
       "       200.33930902,  32.11155252,  59.92680354,  72.48099473,\n",
       "        52.59630016,  16.20203859,  19.35002378,  78.81396546,\n",
       "        18.83408578,  27.7134538 ,  46.12102485,  64.49910148,\n",
       "        44.08121146,  -0.90564408,  59.22784966,  32.69807365,\n",
       "        98.75694439,  39.04502446,  74.20223153,  35.62200202,\n",
       "        48.86754168,  32.45298192,  93.84215698,  47.49490255,\n",
       "        22.40162056,  73.43497342,  51.14855443,  43.59754708,\n",
       "        13.32403564,  60.58926192,  33.18283142,  22.52933425,\n",
       "        13.62509061, 110.03642033,  71.92396685,  22.4697132 ,\n",
       "       216.85550801,  21.32488345,  40.87886721,   8.54074238,\n",
       "        47.64947873,  13.05911145,  57.51725372,  15.19473516,\n",
       "        22.80724977,  61.39730317, 249.87704323,  81.32849144,\n",
       "        52.71674994,  78.38803541,  41.24996561,  15.62172902,\n",
       "        68.41612197,  66.86960785,  67.06222084,  57.50889375,\n",
       "        85.12256217,  26.61018185,  52.95576646,  52.35118234,\n",
       "        79.02730826, 200.58366442,   3.69239379,  46.49351709,\n",
       "        70.92408981,  90.80330241,  88.10803366,  33.55554094,\n",
       "        58.84543729,  13.7002121 ,  54.49772891,  89.77032006,\n",
       "        87.26559593,  56.34778829,  47.470425  ,  81.84216101,\n",
       "        17.0950989 ,  52.70327096,  57.87635384,  28.62048859,\n",
       "        52.86989101,  49.82490711,  53.37235976,  25.56375101,\n",
       "        87.90612723,  76.34989958, 104.59945198,  49.62518046,\n",
       "        89.83655174,  89.29436449,  19.14656473,  -2.37580852,\n",
       "        61.88604544,  55.07476524,  66.98272766,  57.14271929,\n",
       "        22.53323402,  66.23474403,  40.77852403,  85.79757503,\n",
       "        56.57196783,  48.35037198,  69.36323473,  49.92864612,\n",
       "        50.7046083 ,  42.35604401,  56.2944987 ,  82.23752504,\n",
       "       186.12962993,  32.2570047 ,  76.08524333,  62.29793689,\n",
       "        86.96227424,  83.30892132,  60.38905626,  70.62047657])"
      ]
     },
     "execution_count": 16,
     "metadata": {},
     "output_type": "execute_result"
    }
   ],
   "source": [
    "y_pred_train"
   ]
  },
  {
   "cell_type": "code",
   "execution_count": 17,
   "id": "d3e50a5c-cbd5-4a70-b9bf-9981218da4a4",
   "metadata": {},
   "outputs": [
    {
     "data": {
      "image/png": "[encoded data removed]",
      "text/plain": [
       "<Figure size 640x480 with 1 Axes>"
      ]
     },
     "metadata": {},
     "output_type": "display_data"
    }
   ],
   "source": [
    "import matplotlib.pyplot as plt\n",
    "plt.scatter(y_train,y_pred_train)\n",
    "plt.xlabel('Actual prices')\n",
    "plt.ylabel('predicted prices')\n",
    "plt.show()"
   ]
  },
  {
   "cell_type": "code",
   "execution_count": 21,
   "id": "606fb571-5a7c-4514-a186-9303a73aacab",
   "metadata": {},
   "outputs": [],
   "source": [
    "# how to no how much prediction is good or bad is by showing the accuracy score if it is > 60 is good and if < 60 is not good or bad model\n",
    "from sklearn.metrics import r2_score"
   ]
  },
  {
   "cell_type": "code",
   "execution_count": 22,
   "id": "90fdcf9a-037e-4b5b-a557-19e160cd44d6",
   "metadata": {},
   "outputs": [
    {
     "data": {
      "text/plain": [
       "0.7922383562485653"
      ]
     },
     "execution_count": 22,
     "metadata": {},
     "output_type": "execute_result"
    }
   ],
   "source": [
    "r2_score(y_train,y_pred_train) # our model is good and accurate "
   ]
  },
  {
   "cell_type": "code",
   "execution_count": 23,
   "id": "c3965ade-111e-4e5d-b54f-a5a4810477b8",
   "metadata": {},
   "outputs": [],
   "source": [
    "y_pred_test = lr.predict(X_test)"
   ]
  },
  {
   "cell_type": "code",
   "execution_count": 24,
   "id": "0a55fef0-fddf-484f-b65f-c20a9316d552",
   "metadata": {},
   "outputs": [
    {
     "data": {
      "image/png": "[encoded data removed]",
      "text/plain": [
       "<Figure size 640x480 with 1 Axes>"
      ]
     },
     "metadata": {},
     "output_type": "display_data"
    }
   ],
   "source": [
    "import matplotlib.pyplot as plt\n",
    "plt.scatter(y_test,y_pred_test)\n",
    "plt.xlabel('Actual prices')\n",
    "plt.ylabel('predicted prices')\n",
    "plt.show()"
   ]
  },
  {
   "cell_type": "code",
   "execution_count": 25,
   "id": "8d3c0457-fd3f-4e5a-8483-b0c3389a437b",
   "metadata": {},
   "outputs": [
    {
     "data": {
      "text/plain": [
       "0.8031673312822833"
      ]
     },
     "execution_count": 25,
     "metadata": {},
     "output_type": "execute_result"
    }
   ],
   "source": [
    "r2_score(y_test,y_pred_test) # it also shows it is good "
   ]
  },
  {
   "cell_type": "code",
   "execution_count": 26,
   "id": "d012d2c6-dd63-417a-9a2d-01bfd304a1ea",
   "metadata": {},
   "outputs": [
    {
     "data": {
      "text/html": [
       "<div>\n",
       "<style scoped>\n",
       "    .dataframe tbody tr th:only-of-type {\n",
       "        vertical-align: middle;\n",
       "    }\n",
       "\n",
       "    .dataframe tbody tr th {\n",
       "        vertical-align: top;\n",
       "    }\n",
       "\n",
       "    .dataframe thead th {\n",
       "        text-align: right;\n",
       "    }\n",
       "</style>\n",
       "<table border=\"1\" class=\"dataframe\">\n",
       "  <thead>\n",
       "    <tr style=\"text-align: right;\">\n",
       "      <th></th>\n",
       "      <th>Trip_Distance_km</th>\n",
       "      <th>Traffic_Conditions</th>\n",
       "      <th>Weather</th>\n",
       "      <th>Base_Fare</th>\n",
       "      <th>Trip_Duration_Minutes</th>\n",
       "      <th>Trip_Price</th>\n",
       "    </tr>\n",
       "  </thead>\n",
       "  <tbody>\n",
       "    <tr>\n",
       "      <th>0</th>\n",
       "      <td>19.35</td>\n",
       "      <td>1.0</td>\n",
       "      <td>1</td>\n",
       "      <td>3.56</td>\n",
       "      <td>53.82</td>\n",
       "      <td>36.2624</td>\n",
       "    </tr>\n",
       "    <tr>\n",
       "      <th>1</th>\n",
       "      <td>36.87</td>\n",
       "      <td>3.0</td>\n",
       "      <td>1</td>\n",
       "      <td>2.70</td>\n",
       "      <td>37.27</td>\n",
       "      <td>52.9032</td>\n",
       "    </tr>\n",
       "    <tr>\n",
       "      <th>2</th>\n",
       "      <td>8.64</td>\n",
       "      <td>2.0</td>\n",
       "      <td>1</td>\n",
       "      <td>2.55</td>\n",
       "      <td>89.33</td>\n",
       "      <td>60.2028</td>\n",
       "    </tr>\n",
       "    <tr>\n",
       "      <th>3</th>\n",
       "      <td>41.79</td>\n",
       "      <td>3.0</td>\n",
       "      <td>1</td>\n",
       "      <td>4.60</td>\n",
       "      <td>86.95</td>\n",
       "      <td>88.1328</td>\n",
       "    </tr>\n",
       "    <tr>\n",
       "      <th>4</th>\n",
       "      <td>9.91</td>\n",
       "      <td>3.0</td>\n",
       "      <td>1</td>\n",
       "      <td>2.32</td>\n",
       "      <td>41.72</td>\n",
       "      <td>28.9914</td>\n",
       "    </tr>\n",
       "    <tr>\n",
       "      <th>...</th>\n",
       "      <td>...</td>\n",
       "      <td>...</td>\n",
       "      <td>...</td>\n",
       "      <td>...</td>\n",
       "      <td>...</td>\n",
       "      <td>...</td>\n",
       "    </tr>\n",
       "    <tr>\n",
       "      <th>653</th>\n",
       "      <td>40.17</td>\n",
       "      <td>1.0</td>\n",
       "      <td>1</td>\n",
       "      <td>3.81</td>\n",
       "      <td>62.66</td>\n",
       "      <td>56.6394</td>\n",
       "    </tr>\n",
       "    <tr>\n",
       "      <th>654</th>\n",
       "      <td>14.34</td>\n",
       "      <td>2.0</td>\n",
       "      <td>1</td>\n",
       "      <td>3.23</td>\n",
       "      <td>45.07</td>\n",
       "      <td>30.7837</td>\n",
       "    </tr>\n",
       "    <tr>\n",
       "      <th>655</th>\n",
       "      <td>18.69</td>\n",
       "      <td>2.0</td>\n",
       "      <td>1</td>\n",
       "      <td>4.90</td>\n",
       "      <td>79.41</td>\n",
       "      <td>51.8548</td>\n",
       "    </tr>\n",
       "    <tr>\n",
       "      <th>656</th>\n",
       "      <td>5.49</td>\n",
       "      <td>2.0</td>\n",
       "      <td>1</td>\n",
       "      <td>2.39</td>\n",
       "      <td>58.39</td>\n",
       "      <td>34.4049</td>\n",
       "    </tr>\n",
       "    <tr>\n",
       "      <th>657</th>\n",
       "      <td>47.56</td>\n",
       "      <td>1.0</td>\n",
       "      <td>1</td>\n",
       "      <td>2.67</td>\n",
       "      <td>114.94</td>\n",
       "      <td>61.2090</td>\n",
       "    </tr>\n",
       "  </tbody>\n",
       "</table>\n",
       "<p>658 rows × 6 columns</p>\n",
       "</div>"
      ],
      "text/plain": [
       "     Trip_Distance_km  Traffic_Conditions  Weather  Base_Fare  \\\n",
       "0               19.35                 1.0        1       3.56   \n",
       "1               36.87                 3.0        1       2.70   \n",
       "2                8.64                 2.0        1       2.55   \n",
       "3               41.79                 3.0        1       4.60   \n",
       "4                9.91                 3.0        1       2.32   \n",
       "..                ...                 ...      ...        ...   \n",
       "653             40.17                 1.0        1       3.81   \n",
       "654             14.34                 2.0        1       3.23   \n",
       "655             18.69                 2.0        1       4.90   \n",
       "656              5.49                 2.0        1       2.39   \n",
       "657             47.56                 1.0        1       2.67   \n",
       "\n",
       "     Trip_Duration_Minutes  Trip_Price  \n",
       "0                    53.82     36.2624  \n",
       "1                    37.27     52.9032  \n",
       "2                    89.33     60.2028  \n",
       "3                    86.95     88.1328  \n",
       "4                    41.72     28.9914  \n",
       "..                     ...         ...  \n",
       "653                  62.66     56.6394  \n",
       "654                  45.07     30.7837  \n",
       "655                  79.41     51.8548  \n",
       "656                  58.39     34.4049  \n",
       "657                 114.94     61.2090  \n",
       "\n",
       "[658 rows x 6 columns]"
      ]
     },
     "execution_count": 26,
     "metadata": {},
     "output_type": "execute_result"
    }
   ],
   "source": [
    "df"
   ]
  },
  {
   "cell_type": "code",
   "execution_count": 27,
   "id": "cea3743c-27f3-481e-b449-a0122daf6b87",
   "metadata": {},
   "outputs": [
    {
     "name": "stderr",
     "output_type": "stream",
     "text": [
      "C:\\Users\\DELL\\anaconda3\\Lib\\site-packages\\sklearn\\base.py:439: UserWarning: X does not have valid feature names, but LinearRegression was fitted with feature names\n",
      "  warnings.warn(\n"
     ]
    },
    {
     "data": {
      "text/plain": [
       "array([39.82430198])"
      ]
     },
     "execution_count": 27,
     "metadata": {},
     "output_type": "execute_result"
    }
   ],
   "source": [
    "#prediction process with 5 independent variables\n",
    "lr.predict([[19.35,1,1,3.56,53.82]])"
   ]
  },
  {
   "cell_type": "code",
   "execution_count": 28,
   "id": "4ad1e304-0260-4b75-9115-d5fd6ac381b9",
   "metadata": {},
   "outputs": [],
   "source": [
    "#save the model for sharing\n",
    "import joblib"
   ]
  },
  {
   "cell_type": "code",
   "execution_count": 30,
   "id": "bc654712-a5c4-4035-a5da-9eea501e1380",
   "metadata": {},
   "outputs": [
    {
     "data": {
      "text/plain": [
       "['TAXI_PRICE_Trained_model.pkl']"
      ]
     },
     "execution_count": 30,
     "metadata": {},
     "output_type": "execute_result"
    }
   ],
   "source": [
    "joblib.dump(lr,'TAXI_PRICE_Trained_model.pkl')"
   ]
  },
  {
   "cell_type": "code",
   "execution_count": 31,
   "id": "29cac241-b614-4b24-9c37-e98d37c1edd5",
   "metadata": {},
   "outputs": [],
   "source": [
    "# to load the model after been shared\n",
    "model = joblib.load('TAXI_PRICE_Trained_model.pkl')"
   ]
  },
  {
   "cell_type": "code",
   "execution_count": 35,
   "id": "39f23a10-58b2-4022-9314-a278ec3825a5",
   "metadata": {},
   "outputs": [
    {
     "name": "stderr",
     "output_type": "stream",
     "text": [
      "C:\\Users\\DELL\\anaconda3\\Lib\\site-packages\\sklearn\\base.py:439: UserWarning: X does not have valid feature names, but LinearRegression was fitted with feature names\n",
      "  warnings.warn(\n"
     ]
    },
    {
     "data": {
      "text/plain": [
       "array([39.82430198])"
      ]
     },
     "execution_count": 35,
     "metadata": {},
     "output_type": "execute_result"
    }
   ],
   "source": [
    "model.predict([[19.35,1,1,3.56,53.82]])"
   ]
  },
  {
   "cell_type": "code",
   "execution_count": null,
   "id": "1b8c8730-ce42-4468-86f7-d725cb9e19a5",
   "metadata": {},
   "outputs": [],
   "source": [
    "#You can see its the same, so this is how to save and load model after been trained and it can be used ant time any day at any moment"
   ]
  }
 ],
 "metadata": {
  "kernelspec": {
   "display_name": "Python 3 (ipykernel)",
   "language": "python",
   "name": "python3"
  },
  "language_info": {
   "codemirror_mode": {
    "name": "ipython",
    "version": 3
   },
   "file_extension": ".py",
   "mimetype": "text/x-python",
   "name": "python",
   "nbconvert_exporter": "python",
   "pygments_lexer": "ipython3",
   "version": "3.11.7"
  }
 },
 "nbformat": 4,
 "nbformat_minor": 5
}
